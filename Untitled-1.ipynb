{
 "cells": [
  {
   "cell_type": "code",
   "execution_count": null,
   "metadata": {},
   "outputs": [],
   "source": [
    "\n",
    "import pandas as pd\n",
    "import numpy as np\n",
    "from scipy.stats import spearmanr, shapiro, pearsonr, ttest_ind, mannwhitneyu, chi2_contingency\n",
    "from sklearn.preprocessing import LabelEncoder"
   ]
  },
  {
   "cell_type": "code",
   "execution_count": null,
   "metadata": {},
   "outputs": [],
   "source": [
    "\n",
    "df = pd.read_csv('corrected_data.csv', delimiter=',') \n",
    "df.head()"
   ]
  },
  {
   "cell_type": "code",
   "execution_count": null,
   "metadata": {},
   "outputs": [],
   "source": [
    "#Создание функций для добавления категориальных столбцов датафрейма\n",
    "def changerecl(x):\n",
    "    if x <= 1:\n",
    "        return 'мало'\n",
    "    if x == 2:\n",
    "        return 'средне'\n",
    "    if x > 2:\n",
    "        return 'много'\n",
    "    \n",
    "def changeage(x):\n",
    "    if x <= 44:\n",
    "        return 'молодой возраст'\n",
    "    if 45 <= x <= 59:\n",
    "        return 'средний возраст'\n",
    "    if x >= 60:\n",
    "        return 'пожилой возраст'\n",
    "def standr_comf_rh(df):\n",
    "    if 40 <= df['rh'] <= 60:\n",
    "        return 'OK'\n",
    "    else:\n",
    "        return 'not OK'\n",
    "def corrs(x1, x2):\n",
    "    ty1 = type(x1[0])\n",
    "    ty2 = type(x2[0])\n",
    "    if ty1 == ty2:\n",
    "        if ty1 == np.float64:\n",
    "            pass\n"
   ]
  }
 ],
 "metadata": {
  "language_info": {
   "name": "python"
  }
 },
 "nbformat": 4,
 "nbformat_minor": 2
}
