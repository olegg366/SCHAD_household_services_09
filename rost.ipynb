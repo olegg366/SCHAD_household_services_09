{
  "metadata": {
    "kernelspec": {
      "name": "python",
      "display_name": "Python (Pyodide)",
      "language": "python"
    },
    "language_info": {
      "name": ""
    }
  },
  "nbformat_minor": 4,
  "nbformat": 4,
  "cells": [
    {
      "cell_type": "code",
      "source": "import pandas as pd\nimport numpy as np\n\ndef changerecl(x):\n    if x <= 1:\n        return 'мало'\n    if x == 2:\n        return 'средне'\n    if x > 2:\n        return 'много'\n    \ndef changeage(x):\n    if x <= 44:\n        return 'молодой возраст'\n    if 45 <= x <= 59:\n        return 'средний возраст'\n    if x >= 60:\n        return 'пожилой возраст'\ndef standr_comf_rh(df):\n    if 40 <= df['rh'] <= 60:\n        return 'OK'\n    else:\n        return 'not OK'\ndef corrs(x1, x2):\n    ty1 = type(x1[0])\n    ty2 = type(x2[0])\n    if ty1 == ty2:\n        if ty1 == np.float64:\n            \ndf = pd.read_csv('data.csv', delimiter=';') \ndf['countmen'] = 1\n\ndf['реклам_категория'] = df['количество_рекламаций'].map(changerecl)\ndf['возрастная_категория'] = df['возраст'].map(changeage)\n\ndfmeanage = df[['пол', 'страна', 'возраст']].groupby(['пол', 'страна']).mean().round().astype(int)\n\ngoodtemp = df.loc[df['предпочтительное_изменение_температуры'] == 'Без изменений']\n\ndfcomftemp = goodtemp[['температура_воздуха_в_помещении', 'возрастная_категория']].groupby('возрастная_категория').mean()\n\ndf3 =  goodtemp[['страна', 'пол', 'countmen']].groupby(['страна', 'пол']).count()\ndf3.reset_index(inplace=True)\nfor i in range(len(df3)):\n    df3['countmen'][i] = df3['countmen'][i] / len(df.loc[(df['страна'] == df3['страна'][i]) & (df['пол'] == df3['пол'][i])]) * 100\n    \npivot = pd.pivot_table(df, index=['страна', 'пол', 'возрастная_категория'], values=['температура_воздуха_в_помещении', 'температура_воздуха_на_улице', 'rh'], \n                       aggfunc='mean')\n\ndf['стандр_комф_вл'] = df.apply(standr_comf_rh, axis=1)\n\n\n\n",
      "metadata": {
        "trusted": true
      },
      "outputs": [],
      "execution_count": null
    },
    {
      "cell_type": "code",
      "source": "print(df)\n",
      "metadata": {
        "trusted": true
      },
      "outputs": [],
      "execution_count": null
    },
    {
      "cell_type": "code",
      "source": "",
      "metadata": {
        "trusted": true
      },
      "outputs": [],
      "execution_count": null
    }
  ]
}