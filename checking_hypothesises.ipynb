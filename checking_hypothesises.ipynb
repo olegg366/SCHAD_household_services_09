{
 "cells": [
  {
   "cell_type": "code",
   "execution_count": 4,
   "metadata": {},
   "outputs": [],
   "source": [
    "import pandas as pd\n",
    "import numpy as np\n",
    "import seaborn as sns\n",
    "from scipy.stats import chi2_contingency, mannwhitneyu, ttest_ind, pearsonr, spearmanr, shapiro, kruskal, f_oneway"
   ]
  },
  {
   "cell_type": "code",
   "execution_count": 5,
   "metadata": {},
   "outputs": [
    {
     "data": {
      "text/html": [
       "<div>\n",
       "<style scoped>\n",
       "    .dataframe tbody tr th:only-of-type {\n",
       "        vertical-align: middle;\n",
       "    }\n",
       "\n",
       "    .dataframe tbody tr th {\n",
       "        vertical-align: top;\n",
       "    }\n",
       "\n",
       "    .dataframe thead th {\n",
       "        text-align: right;\n",
       "    }\n",
       "</style>\n",
       "<table border=\"1\" class=\"dataframe\">\n",
       "  <thead>\n",
       "    <tr style=\"text-align: right;\">\n",
       "      <th></th>\n",
       "      <th>год</th>\n",
       "      <th>время_года</th>\n",
       "      <th>климат</th>\n",
       "      <th>город</th>\n",
       "      <th>страна</th>\n",
       "      <th>способ_охлаждения</th>\n",
       "      <th>режим_при_смешанном_типе_охлаждения</th>\n",
       "      <th>способ_обогрева</th>\n",
       "      <th>возраст</th>\n",
       "      <th>пол</th>\n",
       "      <th>...</th>\n",
       "      <th>скорость_воздуха</th>\n",
       "      <th>рост</th>\n",
       "      <th>вес</th>\n",
       "      <th>занавески</th>\n",
       "      <th>вентилятор</th>\n",
       "      <th>окно</th>\n",
       "      <th>двери</th>\n",
       "      <th>отопление</th>\n",
       "      <th>среднемесячная_температура_на_улице</th>\n",
       "      <th>количество_рекламаций</th>\n",
       "    </tr>\n",
       "  </thead>\n",
       "  <tbody>\n",
       "    <tr>\n",
       "      <th>0</th>\n",
       "      <td>2011.0</td>\n",
       "      <td>Лето</td>\n",
       "      <td>Cубтропический океанический</td>\n",
       "      <td>Техас</td>\n",
       "      <td>США</td>\n",
       "      <td>Кондиционирование</td>\n",
       "      <td>нет</td>\n",
       "      <td>нет</td>\n",
       "      <td>22</td>\n",
       "      <td>Мужской</td>\n",
       "      <td>...</td>\n",
       "      <td>0.26</td>\n",
       "      <td>170.2</td>\n",
       "      <td>63.0</td>\n",
       "      <td>1.0</td>\n",
       "      <td>1.0</td>\n",
       "      <td>NaN</td>\n",
       "      <td>NaN</td>\n",
       "      <td>NaN</td>\n",
       "      <td>28.9</td>\n",
       "      <td>0</td>\n",
       "    </tr>\n",
       "    <tr>\n",
       "      <th>1</th>\n",
       "      <td>2011.0</td>\n",
       "      <td>Лето</td>\n",
       "      <td>Cубтропический океанический</td>\n",
       "      <td>Техас</td>\n",
       "      <td>США</td>\n",
       "      <td>Кондиционирование</td>\n",
       "      <td>нет</td>\n",
       "      <td>нет</td>\n",
       "      <td>40</td>\n",
       "      <td>Мужской</td>\n",
       "      <td>...</td>\n",
       "      <td>0.12</td>\n",
       "      <td>170.2</td>\n",
       "      <td>63.0</td>\n",
       "      <td>0.0</td>\n",
       "      <td>0.0</td>\n",
       "      <td>NaN</td>\n",
       "      <td>NaN</td>\n",
       "      <td>NaN</td>\n",
       "      <td>84.0</td>\n",
       "      <td>0</td>\n",
       "    </tr>\n",
       "    <tr>\n",
       "      <th>2</th>\n",
       "      <td>2011.0</td>\n",
       "      <td>Лето</td>\n",
       "      <td>Cубтропический океанический</td>\n",
       "      <td>Техас</td>\n",
       "      <td>США</td>\n",
       "      <td>Кондиционирование</td>\n",
       "      <td>нет</td>\n",
       "      <td>нет</td>\n",
       "      <td>42</td>\n",
       "      <td>Мужской</td>\n",
       "      <td>...</td>\n",
       "      <td>0.08</td>\n",
       "      <td>170.2</td>\n",
       "      <td>63.0</td>\n",
       "      <td>0.0</td>\n",
       "      <td>0.0</td>\n",
       "      <td>NaN</td>\n",
       "      <td>NaN</td>\n",
       "      <td>NaN</td>\n",
       "      <td>32.8</td>\n",
       "      <td>0</td>\n",
       "    </tr>\n",
       "    <tr>\n",
       "      <th>3</th>\n",
       "      <td>2011.0</td>\n",
       "      <td>Лето</td>\n",
       "      <td>Cубтропический океанический</td>\n",
       "      <td>Техас</td>\n",
       "      <td>США</td>\n",
       "      <td>Кондиционирование</td>\n",
       "      <td>нет</td>\n",
       "      <td>нет</td>\n",
       "      <td>27</td>\n",
       "      <td>Мужской</td>\n",
       "      <td>...</td>\n",
       "      <td>27.16</td>\n",
       "      <td>170.2</td>\n",
       "      <td>63.0</td>\n",
       "      <td>1.0</td>\n",
       "      <td>1.0</td>\n",
       "      <td>NaN</td>\n",
       "      <td>NaN</td>\n",
       "      <td>NaN</td>\n",
       "      <td>28.9</td>\n",
       "      <td>1</td>\n",
       "    </tr>\n",
       "    <tr>\n",
       "      <th>4</th>\n",
       "      <td>2011.0</td>\n",
       "      <td>Лето</td>\n",
       "      <td>Cубтропический океанический</td>\n",
       "      <td>Техас</td>\n",
       "      <td>США</td>\n",
       "      <td>Кондиционирование</td>\n",
       "      <td>нет</td>\n",
       "      <td>нет</td>\n",
       "      <td>46</td>\n",
       "      <td>Мужской</td>\n",
       "      <td>...</td>\n",
       "      <td>63.83</td>\n",
       "      <td>170.2</td>\n",
       "      <td>63.0</td>\n",
       "      <td>1.0</td>\n",
       "      <td>1.0</td>\n",
       "      <td>NaN</td>\n",
       "      <td>NaN</td>\n",
       "      <td>NaN</td>\n",
       "      <td>32.8</td>\n",
       "      <td>0</td>\n",
       "    </tr>\n",
       "  </tbody>\n",
       "</table>\n",
       "<p>5 rows × 30 columns</p>\n",
       "</div>"
      ],
      "text/plain": [
       "      год время_года                       климат  город страна  \\\n",
       "0  2011.0       Лето  Cубтропический океанический  Техас    США   \n",
       "1  2011.0       Лето  Cубтропический океанический  Техас    США   \n",
       "2  2011.0       Лето  Cубтропический океанический  Техас    США   \n",
       "3  2011.0       Лето  Cубтропический океанический  Техас    США   \n",
       "4  2011.0       Лето  Cубтропический океанический  Техас    США   \n",
       "\n",
       "   способ_охлаждения режим_при_смешанном_типе_охлаждения способ_обогрева  \\\n",
       "0  Кондиционирование                                 нет             нет   \n",
       "1  Кондиционирование                                 нет             нет   \n",
       "2  Кондиционирование                                 нет             нет   \n",
       "3  Кондиционирование                                 нет             нет   \n",
       "4  Кондиционирование                                 нет             нет   \n",
       "\n",
       "   возраст      пол  ...  скорость_воздуха   рост   вес  занавески вентилятор  \\\n",
       "0       22  Мужской  ...              0.26  170.2  63.0        1.0        1.0   \n",
       "1       40  Мужской  ...              0.12  170.2  63.0        0.0        0.0   \n",
       "2       42  Мужской  ...              0.08  170.2  63.0        0.0        0.0   \n",
       "3       27  Мужской  ...             27.16  170.2  63.0        1.0        1.0   \n",
       "4       46  Мужской  ...             63.83  170.2  63.0        1.0        1.0   \n",
       "\n",
       "   окно  двери  отопление  среднемесячная_температура_на_улице  \\\n",
       "0   NaN    NaN        NaN                                 28.9   \n",
       "1   NaN    NaN        NaN                                 84.0   \n",
       "2   NaN    NaN        NaN                                 32.8   \n",
       "3   NaN    NaN        NaN                                 28.9   \n",
       "4   NaN    NaN        NaN                                 32.8   \n",
       "\n",
       "   количество_рекламаций  \n",
       "0                      0  \n",
       "1                      0  \n",
       "2                      0  \n",
       "3                      1  \n",
       "4                      0  \n",
       "\n",
       "[5 rows x 30 columns]"
      ]
     },
     "execution_count": 5,
     "metadata": {},
     "output_type": "execute_result"
    }
   ],
   "source": [
    "df = pd.read_csv('corrected_data.csv', skipinitialspace=True, sep=',', index_col=0)\n",
    "df.head()"
   ]
  },
  {
   "cell_type": "code",
   "execution_count": 6,
   "metadata": {},
   "outputs": [],
   "source": [
    "def hi2(g1, g2):\n",
    "    ct = pd.crosstab(g1, g2)\n",
    "    chi2 = chi2_contingency(ct)\n",
    "    return (chi2.statistic / (df.shape[0] * (min(df.shape) - 1))) ** 0.5, chi2.pvalue\n",
    "\n",
    "def corr(g1, g2, type1, type2):\n",
    "    res = 0\n",
    "    if type1 != type2:\n",
    "        norm = 0\n",
    "        if type1 == 'cat':\n",
    "            norm = shapiro(g2).pvalue >= 0.05\n",
    "            gs = [g2[g1 == i] for i in g1.unique()]\n",
    "            ln = len(g1.unique())\n",
    "        else:\n",
    "            gs = [g1[g2 == i] for i in g2.unique()]\n",
    "            norm = shapiro(g1).pvalue >= 0.05\n",
    "            ln = len(g2.unique())\n",
    "        if not norm:\n",
    "            if ln == 2:\n",
    "                res = mannwhitneyu(g1, g2)\n",
    "                print('Method: Mann-Whitneyu')\n",
    "            else:\n",
    "                res = kruskal(*gs)\n",
    "                print('Method: Kruskal-Wallis')\n",
    "        else: \n",
    "            if ln == 2:\n",
    "                res = ttest_ind(g1, g2)\n",
    "                print('Method: Student')\n",
    "            else:\n",
    "                print(gs)\n",
    "                res = f_oneway(*gs)\n",
    "                print('Method: ANOVA')\n",
    "    else:\n",
    "        if type1 == 'cat':\n",
    "            print('Method: Chi2')\n",
    "            return hi2(g1, g2)\n",
    "        else:\n",
    "            norm = shapiro(g1).pvalue >= 0.05 and shapiro(g2).pvalue >= 0.05\n",
    "            if not norm:\n",
    "                res = spearmanr(g1, g2)\n",
    "                print('Method: Spearman')\n",
    "            else:\n",
    "                res = pearsonr(g1, g2)\n",
    "                print('Method: Pearson')\n",
    "    return res[0], res[1]"
   ]
  },
  {
   "cell_type": "code",
   "execution_count": 7,
   "metadata": {},
   "outputs": [
    {
     "name": "stdout",
     "output_type": "stream",
     "text": [
      "Method: Chi2\n"
     ]
    },
    {
     "data": {
      "text/plain": [
       "(0.04647619042319019, 0.3481673969162561)"
      ]
     },
     "execution_count": 7,
     "metadata": {},
     "output_type": "execute_result"
    }
   ],
   "source": [
    "corr(df['способ_охлаждения'], df['оценка_комфорта'], 'cat', 'cat')"
   ]
  },
  {
   "cell_type": "markdown",
   "metadata": {},
   "source": [
    "Способ охлаждения не вляет на оценку комфорта. Значение корреляции маленькое, следовательно, зависимость очень слабая. Уровень доверия больше 0.05, значит, ответу нельзя доверять."
   ]
  },
  {
   "cell_type": "code",
   "execution_count": 8,
   "metadata": {},
   "outputs": [
    {
     "name": "stdout",
     "output_type": "stream",
     "text": [
      "Method: Chi2\n"
     ]
    },
    {
     "data": {
      "text/plain": [
       "(0.0251014068577231, 0.8409239292046167)"
      ]
     },
     "execution_count": 8,
     "metadata": {},
     "output_type": "execute_result"
    }
   ],
   "source": [
    "corr(df['пол'], df['оценка_комфорта'], 'cat', 'cat')"
   ]
  },
  {
   "cell_type": "markdown",
   "metadata": {},
   "source": [
    "Здесь уровень корреляции также маленький, однако p-уровень больше 0.05, поэтому по имеющимся данным выводов мы делать не можем"
   ]
  },
  {
   "cell_type": "code",
   "execution_count": 9,
   "metadata": {},
   "outputs": [],
   "source": [
    "def changeage(x):\n",
    "    if x <= 44:\n",
    "        return 'молодой возраст'\n",
    "    if 45 <= x <= 59:\n",
    "        return 'средний возраст'\n",
    "    if x >= 60:\n",
    "        return 'пожилой возраст'\n",
    "df['возрастная_категория'] = df['возраст'].map(changeage)"
   ]
  },
  {
   "cell_type": "code",
   "execution_count": 10,
   "metadata": {},
   "outputs": [
    {
     "name": "stdout",
     "output_type": "stream",
     "text": [
      "Method: Chi2\n"
     ]
    },
    {
     "data": {
      "text/plain": [
       "(0.046012383720655976, 0.32870686581672814)"
      ]
     },
     "execution_count": 10,
     "metadata": {},
     "output_type": "execute_result"
    }
   ],
   "source": [
    "corr(df['возрастная_категория'], df['оценка_комфорта'], 'cat', 'cat')"
   ]
  },
  {
   "cell_type": "markdown",
   "metadata": {},
   "source": [
    "Здесь уровень корреляции также маленький, однако p-уровень больше 0.05, поэтому по имеющимся данным выводов мы делать не можем"
   ]
  },
  {
   "cell_type": "code",
   "execution_count": 11,
   "metadata": {},
   "outputs": [
    {
     "name": "stdout",
     "output_type": "stream",
     "text": [
      "Method: Kruskal-Wallis\n"
     ]
    },
    {
     "data": {
      "text/plain": [
       "(nan, nan)"
      ]
     },
     "execution_count": 11,
     "metadata": {},
     "output_type": "execute_result"
    }
   ],
   "source": [
    "corr(df['количество_рекламаций'], df['оценка_комфорта'], 'num', 'cat')"
   ]
  },
  {
   "cell_type": "markdown",
   "metadata": {},
   "source": [
    "Зависимость сильная, при этом p-уровень очень маленький, поэтому можно сказать, что между количеством рекламаций и оценкой комфорта есть связь "
   ]
  },
  {
   "cell_type": "code",
   "execution_count": 82,
   "metadata": {},
   "outputs": [
    {
     "name": "stdout",
     "output_type": "stream",
     "text": [
      "Method: Kruskal-Wallis\n"
     ]
    },
    {
     "data": {
      "text/plain": [
       "(57.44327573695403, 3.360091952598967e-13)"
      ]
     },
     "execution_count": 82,
     "metadata": {},
     "output_type": "execute_result"
    }
   ],
   "source": [
    "corr(df['страна'], df['оценка_комфорта'], 'cat', 'num') "
   ]
  },
  {
   "cell_type": "markdown",
   "metadata": {},
   "source": [
    "Зависимость сильная, при этом p-уровень очень маленький, поэтому можно сказать, что между страной и оценкой комфорта есть связь "
   ]
  },
  {
   "cell_type": "code",
   "execution_count": null,
   "metadata": {},
   "outputs": [],
   "source": []
  }
 ],
 "metadata": {
  "kernelspec": {
   "display_name": "schad",
   "language": "python",
   "name": "python3"
  },
  "language_info": {
   "codemirror_mode": {
    "name": "ipython",
    "version": 3
   },
   "file_extension": ".py",
   "mimetype": "text/x-python",
   "name": "python",
   "nbconvert_exporter": "python",
   "pygments_lexer": "ipython3",
   "version": "3.8.18"
  }
 },
 "nbformat": 4,
 "nbformat_minor": 2
}
